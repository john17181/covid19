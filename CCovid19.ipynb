{
  "nbformat": 4,
  "nbformat_minor": 0,
  "metadata": {
    "colab": {
      "name": "CCovid19.ipynb",
      "provenance": [],
      "collapsed_sections": []
    },
    "kernelspec": {
      "name": "python3",
      "display_name": "Python 3"
    },
    "language_info": {
      "name": "python"
    }
  },
  "cells": [
    {
      "cell_type": "code",
      "execution_count": null,
      "metadata": {
        "id": "HUe0HsedZxUj"
      },
      "outputs": [],
      "source": [
        "from tensorflow.keras.layers import Input, Lambda, Dense, Flatten,Dropout,Conv2D,MaxPooling2D\n",
        "from tensorflow.keras.models import Model\n",
        "from tensorflow.keras.preprocessing import image\n",
        "from sklearn.metrics import accuracy_score,classification_report,confusion_matrix\n",
        "from tensorflow.keras.preprocessing.image import ImageDataGenerator\n",
        "from sklearn.model_selection import train_test_split\n",
        "from tensorflow.keras.models import Sequential\n",
        "import numpy as np\n",
        "import pandas as pd\n",
        "import os\n",
        "import cv2\n",
        "import matplotlib.pyplot as plt\n",
        "from tensorflow.keras.layers import BatchNormalization"
      ]
    },
    {
      "cell_type": "code",
      "source": [
        "# re-size all the images to this\n",
        "IMAGE_SIZE = (100,100)\n",
        "path=\"/content/drive/MyDrive/New_Data_CoV2\"\n",
        "data=[]\n",
        "c=0\n",
        "for folder in os.listdir(path):\n",
        "    sub_path=path+\"/\"+folder\n",
        "    for folder2 in os.listdir(sub_path):\n",
        "      sub_path2=sub_path+\"/\"+folder2\n",
        "      for img in os.listdir(sub_path2):\n",
        "        image_path=sub_path2+\"/\"+img        \n",
        "        img_arr=cv2.imread(image_path)\n",
        "        try:\n",
        "          img_arr=cv2.resize(img_arr,IMAGE_SIZE)\n",
        "          \n",
        "          data.append(img_arr)\n",
        "        except:\n",
        "          c+=1\n",
        "          continue\n",
        "print(\"Number of images skipped= \",c)"
      ],
      "metadata": {
        "colab": {
          "base_uri": "https://localhost:8080/"
        },
        "id": "uGI9qP2Pq3Dt",
        "outputId": "3373fe60-ea40-4ef8-c390-6585cc921f38"
      },
      "execution_count": null,
      "outputs": [
        {
          "output_type": "stream",
          "name": "stdout",
          "text": [
            "Number of images skipped=  2\n"
          ]
        }
      ]
    },
    {
      "cell_type": "code",
      "source": [
        "x=np.array(data)"
      ],
      "metadata": {
        "id": "3_HzDM3Z9alu"
      },
      "execution_count": null,
      "outputs": []
    },
    {
      "cell_type": "code",
      "source": [
        "x=x/255.0"
      ],
      "metadata": {
        "id": "pWgkFtfPq280"
      },
      "execution_count": null,
      "outputs": []
    },
    {
      "cell_type": "code",
      "source": [
        "datagen = ImageDataGenerator(rescale = 1./255)\n",
        "dataset = datagen.flow_from_directory(path,\n",
        "                                      target_size = IMAGE_SIZE,\n",
        "                                      batch_size = 32,\n",
        "                                      class_mode = 'sparse')"
      ],
      "metadata": {
        "colab": {
          "base_uri": "https://localhost:8080/"
        },
        "id": "OnrYEKGX9fec",
        "outputId": "85c061bf-924a-4238-f88f-1cbff6d095f6"
      },
      "execution_count": null,
      "outputs": [
        {
          "output_type": "stream",
          "name": "stdout",
          "text": [
            "Found 4171 images belonging to 3 classes.\n"
          ]
        }
      ]
    },
    {
      "cell_type": "code",
      "source": [
        "dataset.class_indices\n",
        "y=dataset.classes\n",
        "y.shape"
      ],
      "metadata": {
        "colab": {
          "base_uri": "https://localhost:8080/"
        },
        "id": "nPeZdaHZ9lp4",
        "outputId": "567e5187-f5d7-41ab-f23b-399c8b075f33"
      },
      "execution_count": null,
      "outputs": [
        {
          "output_type": "execute_result",
          "data": {
            "text/plain": [
              "(4171,)"
            ]
          },
          "metadata": {},
          "execution_count": 8
        }
      ]
    },
    {
      "cell_type": "code",
      "source": [
        "x_train,x_test,y_train,y_test=train_test_split(x,y,test_size=0.1)\n",
        "x_train,x_val,y_train,y_val=train_test_split(x_train,y_train,test_size=0.2)"
      ],
      "metadata": {
        "id": "O96DiV3B9qL4"
      },
      "execution_count": null,
      "outputs": []
    },
    {
      "cell_type": "code",
      "source": [
        "x_train.shape,y_train.shape\n",
        "x_val.shape,y_val.shape\n",
        "x_test.shape,y_test.shape"
      ],
      "metadata": {
        "colab": {
          "base_uri": "https://localhost:8080/"
        },
        "id": "8W5wUqq39tQF",
        "outputId": "2983be03-e958-4cac-897e-04679f6cac64"
      },
      "execution_count": null,
      "outputs": [
        {
          "output_type": "execute_result",
          "data": {
            "text/plain": [
              "((418, 100, 100, 3), (418,))"
            ]
          },
          "metadata": {},
          "execution_count": 10
        }
      ]
    },
    {
      "cell_type": "code",
      "source": [
        ""
      ],
      "metadata": {
        "id": "XN_gBTMn9x5N"
      },
      "execution_count": null,
      "outputs": []
    },
    {
      "cell_type": "code",
      "source": [
        "model=Sequential()\n",
        "#convolution layer\n",
        "model.add(Conv2D(32,(3,3),activation='relu',input_shape=(100,100,3)))\n",
        "#pooling layer\n",
        "model.add(MaxPooling2D(2,2))\n",
        "model.add(BatchNormalization())"
      ],
      "metadata": {
        "id": "1--b3dMb9197"
      },
      "execution_count": null,
      "outputs": []
    },
    {
      "cell_type": "code",
      "source": [
        "#convolution layer\n",
        "model.add(Conv2D(32,(3,3),activation='relu'))\n",
        "#pooling layer\n",
        "model.add(MaxPooling2D(2,2))\n",
        "model.add(BatchNormalization())"
      ],
      "metadata": {
        "id": "FvHdMzSEApYp"
      },
      "execution_count": null,
      "outputs": []
    },
    {
      "cell_type": "code",
      "source": [
        "#convolution layer\n",
        "model.add(Conv2D(64,(3,3),activation='relu'))\n",
        "#pooling layer\n",
        "model.add(MaxPooling2D(2,2))\n",
        "model.add(BatchNormalization())"
      ],
      "metadata": {
        "id": "RA7BGLGSAtyw"
      },
      "execution_count": null,
      "outputs": []
    },
    {
      "cell_type": "code",
      "source": [
        "#convolution layer\n",
        "model.add(Conv2D(64,(3,3),activation='relu'))\n",
        "#pooling layer\n",
        "model.add(MaxPooling2D(2,2))\n",
        "model.add(BatchNormalization())"
      ],
      "metadata": {
        "id": "sMJUGKWKAxhv"
      },
      "execution_count": null,
      "outputs": []
    },
    {
      "cell_type": "code",
      "source": [
        "#i/p layer\n",
        "model.add(Flatten())\n"
      ],
      "metadata": {
        "id": "ijjuSuksA00_"
      },
      "execution_count": null,
      "outputs": []
    },
    {
      "cell_type": "code",
      "source": [
        "#o/p layer\n",
        "model.add(Dense(3,activation='softmax'))\n",
        "model.summary()"
      ],
      "metadata": {
        "colab": {
          "base_uri": "https://localhost:8080/"
        },
        "id": "wkku7RqmA3kk",
        "outputId": "8c675f4f-656f-4bd1-d4cd-840e9f7ad85d"
      },
      "execution_count": null,
      "outputs": [
        {
          "output_type": "stream",
          "name": "stdout",
          "text": [
            "Model: \"sequential_2\"\n",
            "_________________________________________________________________\n",
            " Layer (type)                Output Shape              Param #   \n",
            "=================================================================\n",
            " conv2d_2 (Conv2D)           (None, 98, 98, 32)        896       \n",
            "                                                                 \n",
            " max_pooling2d_2 (MaxPooling  (None, 49, 49, 32)       0         \n",
            " 2D)                                                             \n",
            "                                                                 \n",
            " batch_normalization (BatchN  (None, 49, 49, 32)       128       \n",
            " ormalization)                                                   \n",
            "                                                                 \n",
            " conv2d_3 (Conv2D)           (None, 47, 47, 32)        9248      \n",
            "                                                                 \n",
            " max_pooling2d_3 (MaxPooling  (None, 23, 23, 32)       0         \n",
            " 2D)                                                             \n",
            "                                                                 \n",
            " batch_normalization_1 (Batc  (None, 23, 23, 32)       128       \n",
            " hNormalization)                                                 \n",
            "                                                                 \n",
            " conv2d_4 (Conv2D)           (None, 21, 21, 64)        18496     \n",
            "                                                                 \n",
            " max_pooling2d_4 (MaxPooling  (None, 10, 10, 64)       0         \n",
            " 2D)                                                             \n",
            "                                                                 \n",
            " batch_normalization_2 (Batc  (None, 10, 10, 64)       256       \n",
            " hNormalization)                                                 \n",
            "                                                                 \n",
            " conv2d_5 (Conv2D)           (None, 8, 8, 64)          36928     \n",
            "                                                                 \n",
            " max_pooling2d_5 (MaxPooling  (None, 4, 4, 64)         0         \n",
            " 2D)                                                             \n",
            "                                                                 \n",
            " batch_normalization_3 (Batc  (None, 4, 4, 64)         256       \n",
            " hNormalization)                                                 \n",
            "                                                                 \n",
            " flatten (Flatten)           (None, 1024)              0         \n",
            "                                                                 \n",
            " dense (Dense)               (None, 3)                 3075      \n",
            "                                                                 \n",
            "=================================================================\n",
            "Total params: 69,411\n",
            "Trainable params: 69,027\n",
            "Non-trainable params: 384\n",
            "_________________________________________________________________\n"
          ]
        }
      ]
    },
    {
      "cell_type": "code",
      "source": [
        "#compile model:\n",
        "model.compile(optimizer='adam',loss='sparse_categorical_crossentropy',metrics=['accuracy'])"
      ],
      "metadata": {
        "id": "hstLuctNA70v"
      },
      "execution_count": null,
      "outputs": []
    },
    {
      "cell_type": "code",
      "source": [
        "from tensorflow.keras.callbacks import EarlyStopping\n",
        "early_stop=EarlyStopping(monitor='val_loss',mode='min',verbose=1,patience=5)"
      ],
      "metadata": {
        "id": "hT36DytCA_7I"
      },
      "execution_count": null,
      "outputs": []
    },
    {
      "cell_type": "code",
      "source": [
        "history=model.fit(x_train,y_train,validation_data=(x_val,y_val),epochs=30,callbacks=[early_stop],shuffle=True)"
      ],
      "metadata": {
        "colab": {
          "base_uri": "https://localhost:8080/"
        },
        "id": "33L4487mBGad",
        "outputId": "2691cd1f-3594-4f73-d1af-bd4494b0784b"
      },
      "execution_count": null,
      "outputs": [
        {
          "output_type": "stream",
          "name": "stdout",
          "text": [
            "Epoch 1/30\n",
            "94/94 [==============================] - 39s 405ms/step - loss: 1.0028 - accuracy: 0.5746 - val_loss: 1.0281 - val_accuracy: 0.5193\n",
            "Epoch 2/30\n",
            "94/94 [==============================] - 37s 389ms/step - loss: 0.6748 - accuracy: 0.7055 - val_loss: 1.1283 - val_accuracy: 0.4567\n",
            "Epoch 3/30\n",
            "94/94 [==============================] - 37s 392ms/step - loss: 0.5202 - accuracy: 0.7988 - val_loss: 1.2610 - val_accuracy: 0.4993\n",
            "Epoch 4/30\n",
            "94/94 [==============================] - 37s 394ms/step - loss: 0.3772 - accuracy: 0.8624 - val_loss: 1.0458 - val_accuracy: 0.4208\n",
            "Epoch 5/30\n",
            "94/94 [==============================] - 37s 392ms/step - loss: 0.2593 - accuracy: 0.9194 - val_loss: 0.9333 - val_accuracy: 0.5686\n",
            "Epoch 6/30\n",
            "94/94 [==============================] - 37s 393ms/step - loss: 0.1665 - accuracy: 0.9557 - val_loss: 1.1021 - val_accuracy: 0.5486\n",
            "Epoch 7/30\n",
            "94/94 [==============================] - 37s 394ms/step - loss: 0.0964 - accuracy: 0.9820 - val_loss: 0.9296 - val_accuracy: 0.6125\n",
            "Epoch 8/30\n",
            "94/94 [==============================] - 37s 391ms/step - loss: 0.0429 - accuracy: 0.9983 - val_loss: 0.8642 - val_accuracy: 0.6844\n",
            "Epoch 9/30\n",
            "94/94 [==============================] - 37s 391ms/step - loss: 0.0183 - accuracy: 1.0000 - val_loss: 0.7435 - val_accuracy: 0.7017\n",
            "Epoch 10/30\n",
            "94/94 [==============================] - 37s 391ms/step - loss: 0.0101 - accuracy: 1.0000 - val_loss: 0.8026 - val_accuracy: 0.7150\n",
            "Epoch 11/30\n",
            "94/94 [==============================] - 37s 391ms/step - loss: 0.0068 - accuracy: 1.0000 - val_loss: 0.7918 - val_accuracy: 0.7137\n",
            "Epoch 12/30\n",
            "94/94 [==============================] - 37s 392ms/step - loss: 0.0051 - accuracy: 1.0000 - val_loss: 0.8393 - val_accuracy: 0.7177\n",
            "Epoch 13/30\n",
            "94/94 [==============================] - 37s 394ms/step - loss: 0.0041 - accuracy: 1.0000 - val_loss: 0.8517 - val_accuracy: 0.7204\n",
            "Epoch 14/30\n",
            "94/94 [==============================] - 37s 392ms/step - loss: 0.0033 - accuracy: 1.0000 - val_loss: 0.8639 - val_accuracy: 0.7164\n",
            "Epoch 14: early stopping\n"
          ]
        }
      ]
    },
    {
      "cell_type": "code",
      "source": [
        "#loss graph\n",
        "plt.plot(history.history['loss'],label='train loss')\n",
        "plt.plot(history.history['val_loss'],label='val loss')\n",
        "plt.legend()"
      ],
      "metadata": {
        "colab": {
          "base_uri": "https://localhost:8080/",
          "height": 282
        },
        "id": "8evyfoIKEiUz",
        "outputId": "77d9d905-dfd0-4cb2-abd2-380ea6aa182d"
      },
      "execution_count": null,
      "outputs": [
        {
          "output_type": "execute_result",
          "data": {
            "text/plain": [
              "<matplotlib.legend.Legend at 0x7fdf9251a4d0>"
            ]
          },
          "metadata": {},
          "execution_count": 24
        },
        {
          "output_type": "display_data",
          "data": {
            "text/plain": [
              "<Figure size 432x288 with 1 Axes>"
            ],
            "image/png": "[encoded data removed]"
          },
          "metadata": {
            "needs_background": "light"
          }
        }
      ]
    },
    {
      "cell_type": "code",
      "source": [
        "plt.savefig('loss-graph.png')\n",
        "plt.show()"
      ],
      "metadata": {
        "colab": {
          "base_uri": "https://localhost:8080/",
          "height": 34
        },
        "id": "YgsX-jpWEuW4",
        "outputId": "1040862c-783f-4112-8c01-e6f1fab46cc6"
      },
      "execution_count": null,
      "outputs": [
        {
          "output_type": "display_data",
          "data": {
            "text/plain": [
              "<Figure size 432x288 with 0 Axes>"
            ]
          },
          "metadata": {}
        }
      ]
    },
    {
      "cell_type": "code",
      "source": [
        "# accuracy\n",
        "plt.plot(history.history['accuracy'], label='train acc')\n",
        "plt.plot(history.history['val_accuracy'], label='val acc')\n",
        "plt.legend()"
      ],
      "metadata": {
        "colab": {
          "base_uri": "https://localhost:8080/",
          "height": 282
        },
        "id": "KmblEzxUExvI",
        "outputId": "69667349-4e1a-41bc-c093-1164c739d33d"
      },
      "execution_count": null,
      "outputs": [
        {
          "output_type": "execute_result",
          "data": {
            "text/plain": [
              "<matplotlib.legend.Legend at 0x7fdf8c979f50>"
            ]
          },
          "metadata": {},
          "execution_count": 26
        },
        {
          "output_type": "display_data",
          "data": {
            "text/plain": [
              "<Figure size 432x288 with 1 Axes>"
            ],
            "image/png": "[encoded data removed]"
          },
          "metadata": {
            "needs_background": "light"
          }
        }
      ]
    },
    {
      "cell_type": "code",
      "source": [
        "plt.savefig('acc-graph.png')\n",
        "plt.show()"
      ],
      "metadata": {
        "colab": {
          "base_uri": "https://localhost:8080/",
          "height": 34
        },
        "id": "Bkx2bvlxE4J0",
        "outputId": "417ebcfc-dc0d-4eca-c743-98094235a4d1"
      },
      "execution_count": null,
      "outputs": [
        {
          "output_type": "display_data",
          "data": {
            "text/plain": [
              "<Figure size 432x288 with 0 Axes>"
            ]
          },
          "metadata": {}
        }
      ]
    },
    {
      "cell_type": "code",
      "source": [
        "y_val_pred=model.predict(x_val)\n",
        "y_val_pred=np.argmax(y_val_pred,axis=1)\n",
        "print(classification_report(y_val_pred,y_val))"
      ],
      "metadata": {
        "colab": {
          "base_uri": "https://localhost:8080/"
        },
        "id": "IJXkrQ60E_ak",
        "outputId": "126f97be-f69e-4e52-9ee1-d92e6653c4e7"
      },
      "execution_count": null,
      "outputs": [
        {
          "output_type": "stream",
          "name": "stdout",
          "text": [
            "              precision    recall  f1-score   support\n",
            "\n",
            "           0       0.86      0.73      0.79       462\n",
            "           1       0.37      0.65      0.47        79\n",
            "           2       0.68      0.72      0.70       210\n",
            "\n",
            "    accuracy                           0.72       751\n",
            "   macro avg       0.64      0.70      0.65       751\n",
            "weighted avg       0.76      0.72      0.73       751\n",
            "\n"
          ]
        }
      ]
    },
    {
      "cell_type": "code",
      "source": [
        "confusion_matrix(y_val_pred,y_val)"
      ],
      "metadata": {
        "colab": {
          "base_uri": "https://localhost:8080/"
        },
        "id": "-FlO9KVWFD5C",
        "outputId": "2cc11f2d-2fbd-47c4-f116-95e60683a8f0"
      },
      "execution_count": null,
      "outputs": [
        {
          "output_type": "execute_result",
          "data": {
            "text/plain": [
              "array([[335,  68,  59],\n",
              "       [ 17,  51,  11],\n",
              "       [ 38,  20, 152]])"
            ]
          },
          "metadata": {},
          "execution_count": 29
        }
      ]
    },
    {
      "cell_type": "code",
      "source": [
        "\n",
        "y_pred=model.predict(x_test)\n",
        "y_pred=np.argmax(y_pred,axis=1)\n",
        "print(classification_report(y_pred,y_test))\n",
        "confusion_matrix(y_pred,y_test)"
      ],
      "metadata": {
        "colab": {
          "base_uri": "https://localhost:8080/"
        },
        "id": "vA3gLI6gFHl6",
        "outputId": "c71992cc-631d-4b26-b800-f98df79e7afd"
      },
      "execution_count": null,
      "outputs": [
        {
          "output_type": "stream",
          "name": "stdout",
          "text": [
            "              precision    recall  f1-score   support\n",
            "\n",
            "           0       0.83      0.75      0.79       232\n",
            "           1       0.45      0.65      0.53        55\n",
            "           2       0.76      0.74      0.75       131\n",
            "\n",
            "    accuracy                           0.74       418\n",
            "   macro avg       0.68      0.72      0.69       418\n",
            "weighted avg       0.76      0.74      0.74       418\n",
            "\n"
          ]
        },
        {
          "output_type": "execute_result",
          "data": {
            "text/plain": [
              "array([[175,  30,  27],\n",
              "       [ 16,  36,   3],\n",
              "       [ 20,  14,  97]])"
            ]
          },
          "metadata": {},
          "execution_count": 30
        }
      ]
    },
    {
      "cell_type": "code",
      "source": [
        "model.save('/content/drive/MyDrive/model.h5')"
      ],
      "metadata": {
        "id": "TGV0zoUCFL8n"
      },
      "execution_count": null,
      "outputs": []
    }
  ]
}